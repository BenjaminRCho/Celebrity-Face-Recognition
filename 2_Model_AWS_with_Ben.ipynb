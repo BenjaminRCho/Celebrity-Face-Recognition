{
 "cells": [
  {
   "cell_type": "markdown",
   "metadata": {},
   "source": [
    "# Face Recognition - Predicting Celebrity Faces"
   ]
  },
  {
   "cell_type": "markdown",
   "metadata": {},
   "source": [
    "### Import Libraries"
   ]
  },
  {
   "cell_type": "code",
   "execution_count": 1,
   "metadata": {},
   "outputs": [
    {
     "name": "stderr",
     "output_type": "stream",
     "text": [
      "Using TensorFlow backend.\n"
     ]
    }
   ],
   "source": [
    "import pandas as pd\n",
    "import numpy as np\n",
    "import matplotlib.pyplot as plt\n",
    "import os\n",
    "import cv2\n",
    "import re\n",
    "import glob\n",
    "\n",
    "import keras\n",
    "from keras.models import Sequential, load_model\n",
    "from keras.layers import Dense, Dropout, Activation, Flatten, Conv2D, MaxPooling2D\n",
    "from keras.callbacks import EarlyStopping, ModelCheckpoint\n",
    "from keras.wrappers.scikit_learn import KerasClassifier\n",
    "from keras.utils import to_categorical\n",
    "from keras.preprocessing.image import ImageDataGenerator\n",
    "\n",
    "from sklearn.model_selection import train_test_split\n",
    "\n",
    "from IPython.display import Image, display\n",
    "from PIL import Image\n"
   ]
  },
  {
   "cell_type": "markdown",
   "metadata": {},
   "source": [
    "## Load in Preprocessed Data"
   ]
  },
  {
   "cell_type": "markdown",
   "metadata": {},
   "source": [
    "Each of my folder containing images of each person was labeled with their full name and a number after their name."
   ]
  },
  {
   "cell_type": "code",
   "execution_count": 2,
   "metadata": {},
   "outputs": [],
   "source": [
    "#grab images\n",
    "image_dir = os.path.join('./images')"
   ]
  },
  {
   "cell_type": "code",
   "execution_count": 3,
   "metadata": {},
   "outputs": [],
   "source": [
    "#function to grab only the name of folders without number\n",
    "def subject_names(data_folder_path):\n",
    "    base_dir = os.listdir(data_folder_path)\n",
    "    class_names = []\n",
    "    \n",
    "    #loop throough each folder path and add to list\n",
    "    for dir_name in sorted(base_dir):\n",
    "        #to ignore system files (.DS_Store)\n",
    "        if dir_name.startswith(\".\"):\n",
    "            continue;\n",
    "        new_name = re.sub('[0-9]', '', dir_name)\n",
    "        class_names.append(new_name)\n",
    "        \n",
    "    return class_names"
   ]
  },
  {
   "cell_type": "code",
   "execution_count": 4,
   "metadata": {},
   "outputs": [
    {
     "data": {
      "text/plain": [
       "['Anne_Hathaway',\n",
       " 'Ben',\n",
       " 'Dave_Chappelle',\n",
       " 'Elizabeth_Olsen',\n",
       " 'Jessica_Alba',\n",
       " 'Mark',\n",
       " 'Zac_Efron']"
      ]
     },
     "execution_count": 4,
     "metadata": {},
     "output_type": "execute_result"
    }
   ],
   "source": [
    "#will use class_names later for predictions\n",
    "class_names = subject_names(image_dir)\n",
    "class_names"
   ]
  },
  {
   "cell_type": "code",
   "execution_count": 5,
   "metadata": {},
   "outputs": [],
   "source": [
    "# this function gets the numbers after the file name\n",
    "def get_numbers(dir_name):\n",
    "    digits = re.compile(r'\\d+')\n",
    "    digit = [int(x) for x in digits.findall(dir_name)]\n",
    "    \n",
    "    return digit\n",
    "\n",
    "\n",
    "#just to test out grabbing each label number so that I can implement into the next function\n",
    "def label_number(data_folder_path):\n",
    "    base_dir = os.listdir(data_folder_path)\n",
    "    labels = []\n",
    "    \n",
    "    for dir_name in base_dir:\n",
    "        #ignore system files\n",
    "        if dir_name.startswith(\".\"):\n",
    "            continue;\n",
    "        label = get_numbers(dir_name)\n",
    "        labels.append(label)\n",
    "        \n",
    "    return labels"
   ]
  },
  {
   "cell_type": "code",
   "execution_count": 6,
   "metadata": {},
   "outputs": [
    {
     "data": {
      "text/plain": [
       "[[4], [2], [1], [5], [0], [3], [6]]"
      ]
     },
     "execution_count": 6,
     "metadata": {},
     "output_type": "execute_result"
    }
   ],
   "source": [
    "#see if it works\n",
    "labels = label_number(image_dir)\n",
    "labels"
   ]
  },
  {
   "cell_type": "code",
   "execution_count": 7,
   "metadata": {},
   "outputs": [],
   "source": [
    "#function to prepare images for model\n",
    "def prepare_training_data(data_folder_path):\n",
    "    base_dir = os.listdir(data_folder_path)\n",
    "    \n",
    "    #list to hold all subject faces\n",
    "    faces = []\n",
    "    #list to hold labels for all subjects\n",
    "    labels = []\n",
    "    \n",
    "    #let's go through each directory and read images within it\n",
    "    for dir_name in base_dir:\n",
    "        \n",
    "        #extract label number of subject from dir_name\n",
    "        if dir_name.startswith(\".\"):\n",
    "            continue;\n",
    "        label = get_numbers(dir_name)\n",
    "        \n",
    "        #build path of directory containin images for current subject subject\n",
    "        subject_dir_path = data_folder_path + \"/\" + dir_name\n",
    "        \n",
    "        #get the images names that are inside the given subject directory\n",
    "        subject_images_names = os.listdir(subject_dir_path)\n",
    "\n",
    "        #go through each image name, read image, \n",
    "        for image_name in subject_images_names:\n",
    "          \n",
    "            #build image path\n",
    "            image_path = subject_dir_path + \"/\" + image_name\n",
    "\n",
    "            #read image\n",
    "            image = cv2.imread(image_path, cv2.IMREAD_COLOR)\n",
    "            \n",
    "            if image is not None:\n",
    "                faces.append(image)\n",
    "                labels.append(label)\n",
    "\n",
    "    return faces, labels"
   ]
  },
  {
   "cell_type": "code",
   "execution_count": 8,
   "metadata": {},
   "outputs": [],
   "source": [
    "#execute function with dataset\n",
    "faces, labels = prepare_training_data(image_dir)"
   ]
  },
  {
   "cell_type": "code",
   "execution_count": 9,
   "metadata": {},
   "outputs": [
    {
     "data": {
      "text/plain": [
       "3003"
      ]
     },
     "execution_count": 9,
     "metadata": {},
     "output_type": "execute_result"
    }
   ],
   "source": [
    "#number of face images\n",
    "len(faces)"
   ]
  },
  {
   "cell_type": "code",
   "execution_count": 10,
   "metadata": {},
   "outputs": [],
   "source": [
    "#reshape the images to proper format\n",
    "reshaped_faces = np.concatenate(faces, axis=0).reshape(len(faces),175,175,3)"
   ]
  },
  {
   "cell_type": "code",
   "execution_count": 11,
   "metadata": {},
   "outputs": [
    {
     "data": {
      "text/plain": [
       "(3003, 175, 175, 3)"
      ]
     },
     "execution_count": 11,
     "metadata": {},
     "output_type": "execute_result"
    }
   ],
   "source": [
    "reshaped_faces.shape"
   ]
  },
  {
   "cell_type": "code",
   "execution_count": 12,
   "metadata": {},
   "outputs": [],
   "source": [
    "#change to array\n",
    "reshaped_labels = np.vstack(labels)"
   ]
  },
  {
   "cell_type": "code",
   "execution_count": 13,
   "metadata": {},
   "outputs": [],
   "source": [
    "#to categorical target\n",
    "y_cat = to_categorical(reshaped_labels, num_classes=7)"
   ]
  },
  {
   "cell_type": "code",
   "execution_count": 14,
   "metadata": {},
   "outputs": [
    {
     "data": {
      "text/plain": [
       "7"
      ]
     },
     "execution_count": 14,
     "metadata": {},
     "output_type": "execute_result"
    }
   ],
   "source": [
    "#number of classes\n",
    "y_cat.shape[1]"
   ]
  },
  {
   "cell_type": "markdown",
   "metadata": {},
   "source": [
    "## Build Model"
   ]
  },
  {
   "cell_type": "code",
   "execution_count": 15,
   "metadata": {},
   "outputs": [],
   "source": [
    "#normalize and set type to float for X and y\n",
    "X = reshaped_faces.astype('float32') / 255.0\n",
    "y = y_cat.astype('float32') / 255.0"
   ]
  },
  {
   "cell_type": "code",
   "execution_count": 16,
   "metadata": {},
   "outputs": [],
   "source": [
    "#train test split\n",
    "X_train, X_test, y_train, y_test = train_test_split(X, y, test_size = 0.2, random_state=42)"
   ]
  },
  {
   "cell_type": "code",
   "execution_count": 17,
   "metadata": {},
   "outputs": [],
   "source": [
    "#function for network\n",
    "def build_model():\n",
    "    model = Sequential()\n",
    "    \n",
    "    model.add(Conv2D(32, kernel_size=(5,5), activation='relu', input_shape=(175, 175, 3), padding='same'))\n",
    "    model.add(Conv2D(32, kernel_size=(3,3), activation='relu', padding='same'))\n",
    "    model.add(MaxPooling2D(pool_size=(3,3), strides=(2,2)))\n",
    "    model.add(Dropout(0.25))\n",
    "    \n",
    "    model.add(Conv2D(64, kernel_size=(5,5), activation='relu', padding='same'))\n",
    "    model.add(Conv2D(64, kernel_size=(3,3), activation='relu', padding='same'))\n",
    "    model.add(MaxPooling2D(pool_size=(3,3), strides=(2,2)))\n",
    "    model.add(Dropout(0.25))\n",
    "    \n",
    "    model.add(Flatten())\n",
    "    model.add(Dense(512, activation='relu'))\n",
    "    model.add(Dropout(0.5))\n",
    "    model.add(Dense(7, activation='softmax'))\n",
    "    \n",
    "    return model\n"
   ]
  },
  {
   "cell_type": "markdown",
   "metadata": {},
   "source": [
    "I chose to build this model with two convolutional layers back to back that way there will be more convolutions before max pooling and losing information from the original image. Since my images were so large, I decided to max pool and dropout twice to reduce computation time. "
   ]
  },
  {
   "cell_type": "markdown",
   "metadata": {},
   "source": [
    "#### Model One\n",
    "Starting from here, I ran my models through AWS"
   ]
  },
  {
   "cell_type": "code",
   "execution_count": 18,
   "metadata": {},
   "outputs": [],
   "source": [
    "model_1 = build_model()"
   ]
  },
  {
   "cell_type": "code",
   "execution_count": 19,
   "metadata": {},
   "outputs": [
    {
     "name": "stdout",
     "output_type": "stream",
     "text": [
      "_________________________________________________________________\n",
      "Layer (type)                 Output Shape              Param #   \n",
      "=================================================================\n",
      "conv2d_1 (Conv2D)            (None, 175, 175, 32)      2432      \n",
      "_________________________________________________________________\n",
      "conv2d_2 (Conv2D)            (None, 175, 175, 32)      9248      \n",
      "_________________________________________________________________\n",
      "max_pooling2d_1 (MaxPooling2 (None, 87, 87, 32)        0         \n",
      "_________________________________________________________________\n",
      "dropout_1 (Dropout)          (None, 87, 87, 32)        0         \n",
      "_________________________________________________________________\n",
      "conv2d_3 (Conv2D)            (None, 87, 87, 64)        51264     \n",
      "_________________________________________________________________\n",
      "conv2d_4 (Conv2D)            (None, 87, 87, 64)        36928     \n",
      "_________________________________________________________________\n",
      "max_pooling2d_2 (MaxPooling2 (None, 43, 43, 64)        0         \n",
      "_________________________________________________________________\n",
      "dropout_2 (Dropout)          (None, 43, 43, 64)        0         \n",
      "_________________________________________________________________\n",
      "flatten_1 (Flatten)          (None, 118336)            0         \n",
      "_________________________________________________________________\n",
      "dense_1 (Dense)              (None, 512)               60588544  \n",
      "_________________________________________________________________\n",
      "dropout_3 (Dropout)          (None, 512)               0         \n",
      "_________________________________________________________________\n",
      "dense_2 (Dense)              (None, 7)                 3591      \n",
      "=================================================================\n",
      "Total params: 60,692,007\n",
      "Trainable params: 60,692,007\n",
      "Non-trainable params: 0\n",
      "_________________________________________________________________\n"
     ]
    }
   ],
   "source": [
    "model_1.summary()"
   ]
  },
  {
   "cell_type": "code",
   "execution_count": 20,
   "metadata": {},
   "outputs": [],
   "source": [
    "#customize adam optimizer\n",
    "opt = keras.optimizers.adam(lr=0.0001, beta_1=0.9, beta_2=0.999, epsilon=1e-08, decay=0.0)\n",
    "\n",
    "#compile model\n",
    "model_1.compile(loss='categorical_crossentropy', optimizer=opt, metrics=['accuracy'])"
   ]
  },
  {
   "cell_type": "code",
   "execution_count": 21,
   "metadata": {},
   "outputs": [],
   "source": [
    "#image augmentation customization, mainly played around with the width and height shifting\n",
    "image_gen = ImageDataGenerator(rotation_range=0, \n",
    "                             width_shift_range=0.05, \n",
    "                             height_shift_range=0.05, \n",
    "                             horizontal_flip=True)\n",
    "\n",
    "#set early stopping, monitor val_loss and stop after two epochs of no change in val_loss\n",
    "es = keras.callbacks.EarlyStopping(monitor='val_loss', min_delta=0, patience=2, verbose=0, mode='auto')"
   ]
  },
  {
   "cell_type": "code",
   "execution_count": 22,
   "metadata": {},
   "outputs": [
    {
     "name": "stdout",
     "output_type": "stream",
     "text": [
      "Epoch 1/100\n",
      "241/241 [==============================] - 44s 182ms/step - loss: 0.0055 - acc: 0.4419 - val_loss: 0.0043 - val_acc: 0.6473\n",
      "Epoch 2/100\n",
      "241/241 [==============================] - 35s 146ms/step - loss: 0.0033 - acc: 0.6929 - val_loss: 0.0020 - val_acc: 0.8336\n",
      "Epoch 3/100\n",
      "241/241 [==============================] - 35s 145ms/step - loss: 0.0023 - acc: 0.7822 - val_loss: 0.0017 - val_acc: 0.8569\n",
      "Epoch 4/100\n",
      "241/241 [==============================] - 35s 145ms/step - loss: 0.0018 - acc: 0.8344 - val_loss: 0.0013 - val_acc: 0.8885\n",
      "Epoch 5/100\n",
      "241/241 [==============================] - 35s 146ms/step - loss: 0.0014 - acc: 0.8672 - val_loss: 0.0011 - val_acc: 0.9135\n",
      "Epoch 6/100\n",
      "241/241 [==============================] - 35s 145ms/step - loss: 0.0012 - acc: 0.8859 - val_loss: 0.0017 - val_acc: 0.8619\n",
      "Epoch 7/100\n",
      "241/241 [==============================] - 35s 146ms/step - loss: 0.0012 - acc: 0.9004 - val_loss: 0.0013 - val_acc: 0.8968\n"
     ]
    }
   ],
   "source": [
    "#fit model\n",
    "history_1 = model_1.fit_generator(image_gen.flow(X_train, y_train, batch_size=10),\n",
    "                      validation_data=(X_test, y_test), callbacks=[es], verbose=1, epochs=100)"
   ]
  },
  {
   "cell_type": "code",
   "execution_count": null,
   "metadata": {},
   "outputs": [],
   "source": [
    "#save model \n",
    "# model_1.save('1_batch10.h5')"
   ]
  },
  {
   "cell_type": "code",
   "execution_count": 23,
   "metadata": {},
   "outputs": [
    {
     "data": {
      "text/plain": [
       "Text(0.5,1,'Accuracy Curves')"
      ]
     },
     "execution_count": 23,
     "metadata": {},
     "output_type": "execute_result"
    },
    {
     "data": {
      "image/png": "[encoded data removed]",
      "text/plain": [
       "<Figure size 576x432 with 1 Axes>"
      ]
     },
     "metadata": {},
     "output_type": "display_data"
    },
    {
     "data": {
      "image/png": "[encoded data removed]",
      "text/plain": [
       "<Figure size 576x432 with 1 Axes>"
      ]
     },
     "metadata": {},
     "output_type": "display_data"
    }
   ],
   "source": [
    "# Loss Curves\n",
    "plt.figure(figsize=[8,6])\n",
    "plt.plot(history_1.history['loss'],'r',linewidth=3.0)\n",
    "plt.plot(history_1.history['val_loss'],'b',linewidth=3.0)\n",
    "plt.legend(['Training loss', 'Validation Loss'],fontsize=18)\n",
    "plt.xlabel('Epochs ',fontsize=16)\n",
    "plt.ylabel('Loss',fontsize=16)\n",
    "plt.title('Loss Curves',fontsize=16)\n",
    " \n",
    "# Accuracy Curves\n",
    "plt.figure(figsize=[8,6])\n",
    "plt.plot(history_1.history['acc'],'r',linewidth=3.0)\n",
    "plt.plot(history_1.history['val_acc'],'b',linewidth=3.0)\n",
    "plt.legend(['Training Accuracy', 'Validation Accuracy'],fontsize=18)\n",
    "plt.xlabel('Epochs ',fontsize=16)\n",
    "plt.ylabel('Accuracy',fontsize=16)\n",
    "plt.title('Accuracy Curves',fontsize=16)"
   ]
  },
  {
   "cell_type": "markdown",
   "metadata": {},
   "source": [
    "#### Model Two"
   ]
  },
  {
   "cell_type": "code",
   "execution_count": 29,
   "metadata": {},
   "outputs": [],
   "source": [
    "model_2 = build_model()"
   ]
  },
  {
   "cell_type": "code",
   "execution_count": 30,
   "metadata": {},
   "outputs": [],
   "source": [
    "opt = keras.optimizers.adam(lr=0.0001, beta_1=0.9, beta_2=0.999, epsilon=1e-08, decay=0.0)\n",
    "\n",
    "model_2.compile(loss='categorical_crossentropy', optimizer=opt, metrics=['accuracy'])"
   ]
  },
  {
   "cell_type": "code",
   "execution_count": 31,
   "metadata": {},
   "outputs": [],
   "source": [
    "image_gen = ImageDataGenerator(rotation_range=0, \n",
    "                             width_shift_range=0.05, \n",
    "                             height_shift_range=0.05, \n",
    "                             horizontal_flip=True)\n",
    "\n",
    "es = keras.callbacks.EarlyStopping(monitor='val_loss', min_delta=0, patience=2, verbose=0, mode='auto')"
   ]
  },
  {
   "cell_type": "code",
   "execution_count": 32,
   "metadata": {},
   "outputs": [
    {
     "name": "stdout",
     "output_type": "stream",
     "text": [
      "Epoch 1/100\n",
      "121/121 [==============================] - 27s 225ms/step - loss: 0.0056 - acc: 0.4396 - val_loss: 0.0043 - val_acc: 0.6539\n",
      "Epoch 2/100\n",
      "121/121 [==============================] - 24s 201ms/step - loss: 0.0036 - acc: 0.6587 - val_loss: 0.0033 - val_acc: 0.6889\n",
      "Epoch 3/100\n",
      "121/121 [==============================] - 25s 203ms/step - loss: 0.0028 - acc: 0.7322 - val_loss: 0.0024 - val_acc: 0.7937\n",
      "Epoch 4/100\n",
      "121/121 [==============================] - 25s 203ms/step - loss: 0.0024 - acc: 0.7769 - val_loss: 0.0020 - val_acc: 0.7970\n",
      "Epoch 5/100\n",
      "121/121 [==============================] - 25s 203ms/step - loss: 0.0019 - acc: 0.8240 - val_loss: 0.0018 - val_acc: 0.8602\n",
      "Epoch 6/100\n",
      "121/121 [==============================] - 25s 203ms/step - loss: 0.0017 - acc: 0.8488 - val_loss: 0.0013 - val_acc: 0.8968\n",
      "Epoch 7/100\n",
      "121/121 [==============================] - 24s 202ms/step - loss: 0.0014 - acc: 0.8764 - val_loss: 0.0013 - val_acc: 0.8885\n",
      "Epoch 8/100\n",
      "121/121 [==============================] - 25s 203ms/step - loss: 0.0013 - acc: 0.8885 - val_loss: 0.0011 - val_acc: 0.9135\n",
      "Epoch 9/100\n",
      "121/121 [==============================] - 24s 201ms/step - loss: 0.0011 - acc: 0.8988 - val_loss: 9.2463e-04 - val_acc: 0.9301\n",
      "Epoch 10/100\n",
      "121/121 [==============================] - 24s 201ms/step - loss: 0.0010 - acc: 0.9116 - val_loss: 0.0010 - val_acc: 0.9118\n",
      "Epoch 11/100\n",
      "121/121 [==============================] - 24s 201ms/step - loss: 9.5663e-04 - acc: 0.9207 - val_loss: 7.5212e-04 - val_acc: 0.9334\n",
      "Epoch 12/100\n",
      "121/121 [==============================] - 24s 202ms/step - loss: 8.2628e-04 - acc: 0.9235 - val_loss: 7.2927e-04 - val_acc: 0.9418\n",
      "Epoch 13/100\n",
      "121/121 [==============================] - 24s 201ms/step - loss: 9.5684e-04 - acc: 0.9145 - val_loss: 0.0011 - val_acc: 0.9068\n",
      "Epoch 14/100\n",
      "121/121 [==============================] - 24s 202ms/step - loss: 8.8560e-04 - acc: 0.9198 - val_loss: 6.2739e-04 - val_acc: 0.9368\n",
      "Epoch 15/100\n",
      "121/121 [==============================] - 24s 202ms/step - loss: 7.0096e-04 - acc: 0.9413 - val_loss: 7.0932e-04 - val_acc: 0.9334\n",
      "Epoch 16/100\n",
      "121/121 [==============================] - 24s 201ms/step - loss: 5.9801e-04 - acc: 0.9446 - val_loss: 6.0126e-04 - val_acc: 0.9484\n",
      "Epoch 17/100\n",
      "121/121 [==============================] - 24s 201ms/step - loss: 6.6384e-04 - acc: 0.9393 - val_loss: 6.1432e-04 - val_acc: 0.9468\n",
      "Epoch 18/100\n",
      "121/121 [==============================] - 24s 201ms/step - loss: 5.6011e-04 - acc: 0.9467 - val_loss: 5.1134e-04 - val_acc: 0.9551\n",
      "Epoch 19/100\n",
      "121/121 [==============================] - 24s 201ms/step - loss: 4.6709e-04 - acc: 0.9587 - val_loss: 4.9654e-04 - val_acc: 0.9634\n",
      "Epoch 20/100\n",
      "121/121 [==============================] - 25s 203ms/step - loss: 5.1620e-04 - acc: 0.9516 - val_loss: 5.4689e-04 - val_acc: 0.9484\n",
      "Epoch 21/100\n",
      "121/121 [==============================] - 25s 203ms/step - loss: 3.9498e-04 - acc: 0.9649 - val_loss: 5.4449e-04 - val_acc: 0.9567\n"
     ]
    }
   ],
   "source": [
    "history_2 = model_2.fit_generator(image_gen.flow(X_train, y_train, batch_size=20), \n",
    "                      validation_data=(X_test, y_test), callbacks=[es], verbose=1, epochs=100)"
   ]
  },
  {
   "cell_type": "code",
   "execution_count": 34,
   "metadata": {},
   "outputs": [],
   "source": [
    "# model_2.save('2_batch20.h5')"
   ]
  },
  {
   "cell_type": "code",
   "execution_count": 33,
   "metadata": {},
   "outputs": [
    {
     "data": {
      "text/plain": [
       "Text(0.5,1,'Accuracy Curves')"
      ]
     },
     "execution_count": 33,
     "metadata": {},
     "output_type": "execute_result"
    },
    {
     "data": {
      "image/png": "[encoded data removed]",
      "text/plain": [
       "<Figure size 576x432 with 1 Axes>"
      ]
     },
     "metadata": {},
     "output_type": "display_data"
    },
    {
     "data": {
      "image/png": "[encoded data removed]",
      "text/plain": [
       "<Figure size 576x432 with 1 Axes>"
      ]
     },
     "metadata": {},
     "output_type": "display_data"
    }
   ],
   "source": [
    "# Loss Curves\n",
    "plt.figure(figsize=[8,6])\n",
    "plt.plot(history_2.history['loss'],'r',linewidth=3.0)\n",
    "plt.plot(history_2.history['val_loss'],'b',linewidth=3.0)\n",
    "plt.legend(['Training loss', 'Validation Loss'],fontsize=18)\n",
    "plt.xlabel('Epochs ',fontsize=16)\n",
    "plt.ylabel('Loss',fontsize=16)\n",
    "plt.title('Loss Curves',fontsize=16)\n",
    " \n",
    "# Accuracy Curves\n",
    "plt.figure(figsize=[8,6])\n",
    "plt.plot(history_2.history['acc'],'r',linewidth=3.0)\n",
    "plt.plot(history_2.history['val_acc'],'b',linewidth=3.0)\n",
    "plt.legend(['Training Accuracy', 'Validation Accuracy'],fontsize=18)\n",
    "plt.xlabel('Epochs ',fontsize=16)\n",
    "plt.ylabel('Accuracy',fontsize=16)\n",
    "plt.title('Accuracy Curves',fontsize=16)"
   ]
  }
 ],
 "metadata": {
  "kernelspec": {
   "display_name": "Python [conda env:anaconda3]",
   "language": "python",
   "name": "conda-env-anaconda3-py"
  },
  "language_info": {
   "codemirror_mode": {
    "name": "ipython",
    "version": 3
   },
   "file_extension": ".py",
   "mimetype": "text/x-python",
   "name": "python",
   "nbconvert_exporter": "python",
   "pygments_lexer": "ipython3",
   "version": "3.6.6"
  }
 },
 "nbformat": 4,
 "nbformat_minor": 2
}
