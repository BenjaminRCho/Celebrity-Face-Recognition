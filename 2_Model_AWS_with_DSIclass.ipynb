{
 "cells": [
  {
   "cell_type": "markdown",
   "metadata": {},
   "source": [
    "# Face Recognition - Predicting Celebrity Faces"
   ]
  },
  {
   "cell_type": "markdown",
   "metadata": {},
   "source": [
    "### Import Libraries"
   ]
  },
  {
   "cell_type": "code",
   "execution_count": 1,
   "metadata": {},
   "outputs": [
    {
     "name": "stderr",
     "output_type": "stream",
     "text": [
      "Using TensorFlow backend.\n"
     ]
    }
   ],
   "source": [
    "import pandas as pd\n",
    "import numpy as np\n",
    "import matplotlib.pyplot as plt\n",
    "import os\n",
    "import cv2\n",
    "import re\n",
    "import glob\n",
    "\n",
    "import keras\n",
    "from keras.models import Sequential, load_model\n",
    "from keras.layers import Dense, Dropout, Activation, Flatten, Conv2D, MaxPooling2D\n",
    "from keras.callbacks import EarlyStopping, ModelCheckpoint\n",
    "from keras.wrappers.scikit_learn import KerasClassifier\n",
    "from keras.utils import to_categorical\n",
    "from keras.preprocessing.image import ImageDataGenerator\n",
    "\n",
    "from sklearn.model_selection import train_test_split\n",
    "\n",
    "from IPython.display import Image, display\n",
    "from PIL import Image\n"
   ]
  },
  {
   "cell_type": "markdown",
   "metadata": {},
   "source": [
    "### Load in Preprocessed Data"
   ]
  },
  {
   "cell_type": "code",
   "execution_count": 2,
   "metadata": {},
   "outputs": [],
   "source": [
    "#grab images\n",
    "image_dir = os.path.join('./images')"
   ]
  },
  {
   "cell_type": "code",
   "execution_count": 3,
   "metadata": {},
   "outputs": [],
   "source": [
    "#function to grab only the name of folders without number\n",
    "def subject_names(data_folder_path):\n",
    "    base_dir = os.listdir(data_folder_path)\n",
    "    class_names = []\n",
    "    \n",
    "    #loop throough each folder path and add to list\n",
    "    for dir_name in sorted(base_dir):\n",
    "        #to ignore system files (.DS_Store)\n",
    "        if dir_name.startswith(\".\"):\n",
    "            continue;\n",
    "        new_name = re.sub('[0-9]', '', dir_name)\n",
    "        class_names.append(new_name)\n",
    "        \n",
    "    return class_names"
   ]
  },
  {
   "cell_type": "code",
   "execution_count": 4,
   "metadata": {},
   "outputs": [
    {
     "data": {
      "text/plain": [
       "['Abhishek Sharma',\n",
       " 'Anne_Hathaway',\n",
       " 'Ben_Cho',\n",
       " 'Dave_Chappelle',\n",
       " 'Elizabeth_Olsen',\n",
       " 'Jessica_Alba',\n",
       " 'Kenghshin_Lai',\n",
       " 'Mark_Popovich',\n",
       " 'Nicole_Look',\n",
       " 'Polina_Mitrikovskaia',\n",
       " 'Terra_Riley',\n",
       " 'Uday_Datta',\n",
       " 'Vijay_Swamy',\n",
       " 'Will_Suh',\n",
       " 'Zac_Efron']"
      ]
     },
     "execution_count": 4,
     "metadata": {},
     "output_type": "execute_result"
    }
   ],
   "source": [
    "#will use class_names later for predictions\n",
    "class_names = subject_names(image_dir)\n",
    "class_names"
   ]
  },
  {
   "cell_type": "code",
   "execution_count": 5,
   "metadata": {},
   "outputs": [],
   "source": [
    "# this function is to just get the numbers after the file name\n",
    "def get_numbers(dir_name):\n",
    "    digits = re.compile(r'\\d+')\n",
    "    digit = [int(x) for x in digits.findall(dir_name)]\n",
    "    \n",
    "    return digit\n",
    "\n",
    "\n",
    "#just to test out grabbing each label number so that I can implement into the next function\n",
    "def label_number(data_folder_path):\n",
    "    base_dir = os.listdir(data_folder_path)\n",
    "    labels = []\n",
    "    \n",
    "    for dir_name in base_dir:\n",
    "        #ignore system files\n",
    "        if dir_name.startswith(\".\"):\n",
    "            continue;\n",
    "        label = get_numbers(dir_name)\n",
    "        labels.append(label)\n",
    "        \n",
    "    return labels"
   ]
  },
  {
   "cell_type": "code",
   "execution_count": 6,
   "metadata": {},
   "outputs": [
    {
     "data": {
      "text/plain": [
       "[[14],\n",
       " [11],\n",
       " [8],\n",
       " [3],\n",
       " [4],\n",
       " [5],\n",
       " [10],\n",
       " [12],\n",
       " [0],\n",
       " [9],\n",
       " [13],\n",
       " [2],\n",
       " [6],\n",
       " [1],\n",
       " [7]]"
      ]
     },
     "execution_count": 6,
     "metadata": {},
     "output_type": "execute_result"
    }
   ],
   "source": [
    "#see if it works\n",
    "labels = label_number(image_dir)\n",
    "labels"
   ]
  },
  {
   "cell_type": "code",
   "execution_count": 7,
   "metadata": {},
   "outputs": [],
   "source": [
    "#function to prepare images for model\n",
    "def prepare_training_data(data_folder_path):\n",
    "    base_dir = os.listdir(data_folder_path)\n",
    "    \n",
    "    #list to hold all subject faces\n",
    "    faces = []\n",
    "    #list to hold labels for all subjects\n",
    "    labels = []\n",
    "    \n",
    "    #let's go through each directory and read images within it\n",
    "    for dir_name in base_dir:\n",
    "        \n",
    "        #extract label number of subject from dir_name\n",
    "        if dir_name.startswith(\".\"):\n",
    "            continue;\n",
    "        label = get_numbers(dir_name)\n",
    "        \n",
    "        #build path of directory containin images for current subject subject\n",
    "        subject_dir_path = data_folder_path + \"/\" + dir_name\n",
    "        \n",
    "        #get the images names that are inside the given subject directory\n",
    "        subject_images_names = os.listdir(subject_dir_path)\n",
    "\n",
    "        #go through each image name, read image, \n",
    "        for image_name in subject_images_names:\n",
    "          \n",
    "            #build image path\n",
    "            image_path = subject_dir_path + \"/\" + image_name\n",
    "\n",
    "            #read image\n",
    "            image = cv2.imread(image_path, cv2.IMREAD_COLOR)\n",
    "            \n",
    "            if image is not None:\n",
    "                faces.append(image)\n",
    "                labels.append(label)\n",
    "\n",
    "    return faces, labels"
   ]
  },
  {
   "cell_type": "code",
   "execution_count": 8,
   "metadata": {},
   "outputs": [],
   "source": [
    "#execute function with dataset\n",
    "faces, labels = prepare_training_data(image_dir)"
   ]
  },
  {
   "cell_type": "code",
   "execution_count": 9,
   "metadata": {},
   "outputs": [
    {
     "data": {
      "text/plain": [
       "5701"
      ]
     },
     "execution_count": 9,
     "metadata": {},
     "output_type": "execute_result"
    }
   ],
   "source": [
    "#number of faces\n",
    "len(faces)"
   ]
  },
  {
   "cell_type": "code",
   "execution_count": 10,
   "metadata": {},
   "outputs": [],
   "source": [
    "#reshape the images to proper format\n",
    "reshaped_faces = np.concatenate(faces, axis=0).reshape(len(faces),175,175,3)"
   ]
  },
  {
   "cell_type": "code",
   "execution_count": 11,
   "metadata": {},
   "outputs": [
    {
     "data": {
      "text/plain": [
       "(5701, 175, 175, 3)"
      ]
     },
     "execution_count": 11,
     "metadata": {},
     "output_type": "execute_result"
    }
   ],
   "source": [
    "reshaped_faces.shape"
   ]
  },
  {
   "cell_type": "code",
   "execution_count": 12,
   "metadata": {},
   "outputs": [],
   "source": [
    "#change to array\n",
    "reshaped_labels = np.vstack(labels)"
   ]
  },
  {
   "cell_type": "code",
   "execution_count": 13,
   "metadata": {},
   "outputs": [],
   "source": [
    "#to categorical target\n",
    "y_cat = to_categorical(reshaped_labels, num_classes=15)"
   ]
  },
  {
   "cell_type": "code",
   "execution_count": 14,
   "metadata": {},
   "outputs": [
    {
     "data": {
      "text/plain": [
       "15"
      ]
     },
     "execution_count": 14,
     "metadata": {},
     "output_type": "execute_result"
    }
   ],
   "source": [
    "#number of classes\n",
    "y_cat.shape[1]"
   ]
  },
  {
   "cell_type": "markdown",
   "metadata": {},
   "source": [
    "## Build Model"
   ]
  },
  {
   "cell_type": "code",
   "execution_count": 15,
   "metadata": {},
   "outputs": [],
   "source": [
    "#normalize and set type to float for X and y\n",
    "X = reshaped_faces.astype('float32') / 255.0\n",
    "y = y_cat.astype('float32') / 255.0"
   ]
  },
  {
   "cell_type": "code",
   "execution_count": 17,
   "metadata": {},
   "outputs": [],
   "source": [
    "#train test split\n",
    "X_train, X_test, y_train, y_test = train_test_split(X, y, test_size = 0.15, random_state=42)"
   ]
  },
  {
   "cell_type": "code",
   "execution_count": 17,
   "metadata": {},
   "outputs": [],
   "source": [
    "#function for network\n",
    "def build_model():\n",
    "    model = Sequential()\n",
    "    \n",
    "    model.add(Conv2D(32, kernel_size=(5,5), activation='relu', input_shape=(175, 175, 3), padding='same'))\n",
    "    model.add(Conv2D(32, kernel_size=(3,3), activation='relu', padding='same'))\n",
    "    model.add(MaxPooling2D(pool_size=(3,3), strides=(2,2)))\n",
    "    model.add(Dropout(0.25))\n",
    "    \n",
    "    model.add(Conv2D(64, kernel_size=(5,5), activation='relu', padding='same'))\n",
    "    model.add(Conv2D(64, kernel_size=(3,3), activation='relu', padding='same'))\n",
    "    model.add(MaxPooling2D(pool_size=(3,3), strides=(2,2)))\n",
    "    model.add(Dropout(0.25))\n",
    "    \n",
    "    model.add(Flatten())\n",
    "    model.add(Dense(512, activation='relu'))\n",
    "    model.add(Dropout(0.5))\n",
    "    model.add(Dense(15, activation='softmax'))\n",
    "    \n",
    "    return model\n"
   ]
  },
  {
   "cell_type": "code",
   "execution_count": 28,
   "metadata": {},
   "outputs": [],
   "source": [
    "def build_model_2():\n",
    "    model = Sequential()\n",
    "    \n",
    "    model.add(Conv2D(64, kernel_size=(5,5), activation='relu', input_shape=(175, 175, 3), padding='same'))\n",
    "    model.add(Conv2D(64, kernel_size=(3,3), activation='relu', padding='same'))\n",
    "    model.add(MaxPooling2D(pool_size=(3,3), strides=(2,2)))\n",
    "    model.add(Dropout(0.25))\n",
    "    \n",
    "    model.add(Conv2D(128, kernel_size=(5,5), activation='relu', padding='same'))\n",
    "    model.add(Conv2D(128, kernel_size=(3,3), activation='relu', padding='same'))\n",
    "    model.add(MaxPooling2D(pool_size=(3,3), strides=(2,2)))\n",
    "    model.add(Dropout(0.25))\n",
    "    \n",
    "    model.add(Flatten())\n",
    "    model.add(Dense(512, activation='relu'))\n",
    "    model.add(Dropout(0.5))\n",
    "    model.add(Dense(15, activation='softmax'))\n",
    "    \n",
    "    return model\n"
   ]
  },
  {
   "cell_type": "code",
   "execution_count": 29,
   "metadata": {},
   "outputs": [],
   "source": [
    "def build_model_3():\n",
    "    model = Sequential()\n",
    "    \n",
    "    model.add(Conv2D(32, kernel_size=(5,5), activation='relu', input_shape=(175, 175, 3), padding='same'))\n",
    "    model.add(Conv2D(32, kernel_size=(3,3), activation='relu', padding='same'))\n",
    "    model.add(MaxPooling2D(pool_size=(3,3), strides=(2,2)))\n",
    "    model.add(Dropout(0.25))\n",
    "    \n",
    "    model.add(Conv2D(64, kernel_size=(5,5), activation='relu', padding='same'))\n",
    "    model.add(Conv2D(64, kernel_size=(3,3), activation='relu', padding='same'))\n",
    "    model.add(MaxPooling2D(pool_size=(3,3), strides=(2,2)))\n",
    "    model.add(Dropout(0.25))\n",
    "    \n",
    "    model.add(Conv2D(128, kernel_size=(5,5), activation='relu', padding='same'))\n",
    "    model.add(Conv2D(128, kernel_size=(3,3), activation='relu', padding='same'))\n",
    "#     model.add(MaxPooling2D(pool_size=(3,3), strides=(2,2)))\n",
    "    model.add(Dropout(0.25))\n",
    "    \n",
    "    model.add(Flatten())\n",
    "    model.add(Dense(512, activation='relu'))\n",
    "    model.add(Dropout(0.5))\n",
    "    model.add(Dense(15, activation='softmax'))\n",
    "    \n",
    "    return model\n"
   ]
  },
  {
   "cell_type": "markdown",
   "metadata": {},
   "source": [
    "With more people and faces to predict, I couldn't use the model I used for a smaller sample of people. I have tried different the numbers of filters and/or layers, dropping layers and max pooling to increase the accuracy of the model. "
   ]
  },
  {
   "cell_type": "markdown",
   "metadata": {},
   "source": [
    "### Model One\n",
    "Starting from here, I ran my models through AWS"
   ]
  },
  {
   "cell_type": "code",
   "execution_count": 31,
   "metadata": {},
   "outputs": [],
   "source": [
    "model_1 = build_model_2()"
   ]
  },
  {
   "cell_type": "code",
   "execution_count": 37,
   "metadata": {},
   "outputs": [],
   "source": [
    "model_1 = build_model_3()"
   ]
  },
  {
   "cell_type": "code",
   "execution_count": 38,
   "metadata": {},
   "outputs": [
    {
     "name": "stdout",
     "output_type": "stream",
     "text": [
      "_________________________________________________________________\n",
      "Layer (type)                 Output Shape              Param #   \n",
      "=================================================================\n",
      "conv2d_33 (Conv2D)           (None, 175, 175, 32)      2432      \n",
      "_________________________________________________________________\n",
      "conv2d_34 (Conv2D)           (None, 175, 175, 32)      9248      \n",
      "_________________________________________________________________\n",
      "max_pooling2d_14 (MaxPooling (None, 87, 87, 32)        0         \n",
      "_________________________________________________________________\n",
      "dropout_23 (Dropout)         (None, 87, 87, 32)        0         \n",
      "_________________________________________________________________\n",
      "conv2d_35 (Conv2D)           (None, 87, 87, 64)        51264     \n",
      "_________________________________________________________________\n",
      "conv2d_36 (Conv2D)           (None, 87, 87, 64)        36928     \n",
      "_________________________________________________________________\n",
      "max_pooling2d_15 (MaxPooling (None, 43, 43, 64)        0         \n",
      "_________________________________________________________________\n",
      "dropout_24 (Dropout)         (None, 43, 43, 64)        0         \n",
      "_________________________________________________________________\n",
      "conv2d_37 (Conv2D)           (None, 43, 43, 128)       204928    \n",
      "_________________________________________________________________\n",
      "conv2d_38 (Conv2D)           (None, 43, 43, 128)       147584    \n",
      "_________________________________________________________________\n",
      "dropout_25 (Dropout)         (None, 43, 43, 128)       0         \n",
      "_________________________________________________________________\n",
      "flatten_7 (Flatten)          (None, 236672)            0         \n",
      "_________________________________________________________________\n",
      "dense_13 (Dense)             (None, 512)               121176576 \n",
      "_________________________________________________________________\n",
      "dropout_26 (Dropout)         (None, 512)               0         \n",
      "_________________________________________________________________\n",
      "dense_14 (Dense)             (None, 15)                7695      \n",
      "=================================================================\n",
      "Total params: 121,636,655\n",
      "Trainable params: 121,636,655\n",
      "Non-trainable params: 0\n",
      "_________________________________________________________________\n"
     ]
    }
   ],
   "source": [
    "model_1.summary()"
   ]
  },
  {
   "cell_type": "code",
   "execution_count": 39,
   "metadata": {},
   "outputs": [],
   "source": [
    "opt = keras.optimizers.adam(lr=0.0001, beta_1=0.9, beta_2=0.999, epsilon=1e-08, decay=0.0)\n",
    "\n",
    "model_1.compile(loss='categorical_crossentropy', optimizer=opt, metrics=['accuracy'])"
   ]
  },
  {
   "cell_type": "code",
   "execution_count": 40,
   "metadata": {},
   "outputs": [],
   "source": [
    "image_gen = ImageDataGenerator(rotation_range=0, \n",
    "                             width_shift_range=0.05, \n",
    "                             height_shift_range=0.05, \n",
    "                             horizontal_flip=True)\n",
    "\n",
    "es = keras.callbacks.EarlyStopping(monitor='val_loss', min_delta=0, patience=2, verbose=0, mode='auto')"
   ]
  },
  {
   "cell_type": "code",
   "execution_count": 41,
   "metadata": {},
   "outputs": [
    {
     "name": "stdout",
     "output_type": "stream",
     "text": [
      "Epoch 1/100\n",
      "243/243 [==============================] - 85s 350ms/step - loss: 0.0057 - acc: 0.5099 - val_loss: 0.0028 - val_acc: 0.7582\n",
      "Epoch 2/100\n",
      "243/243 [==============================] - 76s 314ms/step - loss: 0.0024 - acc: 0.7807 - val_loss: 0.0014 - val_acc: 0.8914\n",
      "Epoch 3/100\n",
      "243/243 [==============================] - 76s 314ms/step - loss: 0.0016 - acc: 0.8484 - val_loss: 0.0012 - val_acc: 0.9252\n",
      "Epoch 4/100\n",
      "243/243 [==============================] - 76s 314ms/step - loss: 0.0012 - acc: 0.8946 - val_loss: 9.7515e-04 - val_acc: 0.9252\n",
      "Epoch 5/100\n",
      "243/243 [==============================] - 76s 314ms/step - loss: 0.0011 - acc: 0.9039 - val_loss: 7.1793e-04 - val_acc: 0.9381\n",
      "Epoch 6/100\n",
      "243/243 [==============================] - 76s 313ms/step - loss: 9.5335e-04 - acc: 0.9140 - val_loss: 6.3404e-04 - val_acc: 0.9498\n",
      "Epoch 7/100\n",
      "243/243 [==============================] - 76s 314ms/step - loss: 7.7744e-04 - acc: 0.9315 - val_loss: 7.4316e-04 - val_acc: 0.9439\n",
      "Epoch 8/100\n",
      "243/243 [==============================] - 76s 314ms/step - loss: 7.2118e-04 - acc: 0.9379 - val_loss: 5.3733e-04 - val_acc: 0.9544\n",
      "Epoch 9/100\n",
      "243/243 [==============================] - 76s 312ms/step - loss: 6.0064e-04 - acc: 0.9455 - val_loss: 4.8344e-04 - val_acc: 0.9568\n",
      "Epoch 10/100\n",
      "243/243 [==============================] - 76s 314ms/step - loss: 6.4395e-04 - acc: 0.9434 - val_loss: 4.7424e-04 - val_acc: 0.9568\n",
      "Epoch 11/100\n",
      "243/243 [==============================] - 76s 312ms/step - loss: 5.0638e-04 - acc: 0.9535 - val_loss: 4.7427e-04 - val_acc: 0.9673\n",
      "Epoch 12/100\n",
      "243/243 [==============================] - 76s 313ms/step - loss: 5.0322e-04 - acc: 0.9549 - val_loss: 5.4157e-04 - val_acc: 0.9614\n"
     ]
    }
   ],
   "source": [
    "history_1 = model_1.fit_generator(image_gen.flow(X_train, y_train, batch_size=20),\n",
    "                      validation_data=(X_test, y_test), callbacks=[es], verbose=1, epochs=100)"
   ]
  },
  {
   "cell_type": "code",
   "execution_count": 26,
   "metadata": {},
   "outputs": [],
   "source": [
    "model_1.save('1_3x2cnn.h5')"
   ]
  },
  {
   "cell_type": "code",
   "execution_count": 43,
   "metadata": {},
   "outputs": [
    {
     "data": {
      "text/plain": [
       "Text(0.5,1,'Accuracy Curves')"
      ]
     },
     "execution_count": 43,
     "metadata": {},
     "output_type": "execute_result"
    },
    {
     "data": {
      "image/png": "[encoded data removed]",
      "text/plain": [
       "<Figure size 576x432 with 1 Axes>"
      ]
     },
     "metadata": {},
     "output_type": "display_data"
    },
    {
     "data": {
      "image/png": "[encoded data removed]",
      "text/plain": [
       "<Figure size 576x432 with 1 Axes>"
      ]
     },
     "metadata": {},
     "output_type": "display_data"
    }
   ],
   "source": [
    "# Loss Curves\n",
    "plt.figure(figsize=[8,6])\n",
    "plt.plot(history_1.history['loss'],'r',linewidth=3.0)\n",
    "plt.plot(history_1.history['val_loss'],'b',linewidth=3.0)\n",
    "plt.legend(['Training loss', 'Validation Loss'],fontsize=18)\n",
    "plt.xlabel('Epochs ',fontsize=16)\n",
    "plt.ylabel('Loss',fontsize=16)\n",
    "plt.title('Loss Curves',fontsize=16)\n",
    " \n",
    "# Accuracy Curves\n",
    "plt.figure(figsize=[8,6])\n",
    "plt.plot(history_1.history['acc'],'r',linewidth=3.0)\n",
    "plt.plot(history_1.history['val_acc'],'b',linewidth=3.0)\n",
    "plt.legend(['Training Accuracy', 'Validation Accuracy'],fontsize=18)\n",
    "plt.xlabel('Epochs ',fontsize=16)\n",
    "plt.ylabel('Accuracy',fontsize=16)\n",
    "plt.title('Accuracy Curves',fontsize=16)"
   ]
  },
  {
   "cell_type": "markdown",
   "metadata": {},
   "source": [
    "### Model Two"
   ]
  },
  {
   "cell_type": "code",
   "execution_count": 18,
   "metadata": {},
   "outputs": [],
   "source": [
    "model_2 = build_model()"
   ]
  },
  {
   "cell_type": "code",
   "execution_count": 19,
   "metadata": {},
   "outputs": [],
   "source": [
    "opt = keras.optimizers.adam(lr=0.0001, beta_1=0.9, beta_2=0.999, epsilon=1e-08, decay=0.0)\n",
    "\n",
    "model_2.compile(loss='categorical_crossentropy', optimizer=opt, metrics=['accuracy'])"
   ]
  },
  {
   "cell_type": "code",
   "execution_count": 20,
   "metadata": {},
   "outputs": [],
   "source": [
    "image_gen = ImageDataGenerator(rotation_range=0, \n",
    "                             width_shift_range=0.05, \n",
    "                             height_shift_range=0.05, \n",
    "                             horizontal_flip=True)\n",
    "\n",
    "es = keras.callbacks.EarlyStopping(monitor='val_loss', min_delta=0, patience=2, verbose=0, mode='auto')"
   ]
  },
  {
   "cell_type": "code",
   "execution_count": 21,
   "metadata": {},
   "outputs": [
    {
     "name": "stdout",
     "output_type": "stream",
     "text": [
      "Epoch 1/100\n",
      "228/228 [==============================] - 54s 237ms/step - loss: 0.0058 - acc: 0.5110 - val_loss: 0.0026 - val_acc: 0.8054\n",
      "Epoch 2/100\n",
      "228/228 [==============================] - 46s 201ms/step - loss: 0.0024 - acc: 0.7976 - val_loss: 0.0013 - val_acc: 0.9097\n",
      "Epoch 3/100\n",
      "228/228 [==============================] - 46s 201ms/step - loss: 0.0016 - acc: 0.8632 - val_loss: 9.5621e-04 - val_acc: 0.9132\n",
      "Epoch 4/100\n",
      "228/228 [==============================] - 46s 201ms/step - loss: 0.0013 - acc: 0.8840 - val_loss: 0.0011 - val_acc: 0.9229\n",
      "Epoch 5/100\n",
      "228/228 [==============================] - 46s 203ms/step - loss: 0.0011 - acc: 0.9053 - val_loss: 8.5607e-04 - val_acc: 0.9360\n",
      "Epoch 6/100\n",
      "228/228 [==============================] - 46s 203ms/step - loss: 9.5619e-04 - acc: 0.9219 - val_loss: 8.2506e-04 - val_acc: 0.9255\n",
      "Epoch 7/100\n",
      "228/228 [==============================] - 46s 202ms/step - loss: 8.9165e-04 - acc: 0.9221 - val_loss: 5.7844e-04 - val_acc: 0.9500\n",
      "Epoch 8/100\n",
      "228/228 [==============================] - 46s 203ms/step - loss: 7.7217e-04 - acc: 0.9340 - val_loss: 5.7786e-04 - val_acc: 0.9518\n",
      "Epoch 9/100\n",
      "228/228 [==============================] - 46s 203ms/step - loss: 6.6591e-04 - acc: 0.9408 - val_loss: 5.2509e-04 - val_acc: 0.9614\n",
      "Epoch 10/100\n",
      "228/228 [==============================] - 46s 202ms/step - loss: 6.2984e-04 - acc: 0.9441 - val_loss: 6.0461e-04 - val_acc: 0.9430\n",
      "Epoch 11/100\n",
      "228/228 [==============================] - 46s 201ms/step - loss: 5.6969e-04 - acc: 0.9533 - val_loss: 5.4996e-04 - val_acc: 0.9509\n"
     ]
    }
   ],
   "source": [
    "history_2 = model_2.fit_generator(image_gen.flow(X_train, y_train, batch_size=20), \n",
    "                      validation_data=(X_test, y_test), callbacks=[es], verbose=1, epochs=100)"
   ]
  },
  {
   "cell_type": "code",
   "execution_count": 23,
   "metadata": {},
   "outputs": [],
   "source": [
    "model_2.save('2_batch20_dsi.h5')"
   ]
  },
  {
   "cell_type": "code",
   "execution_count": 22,
   "metadata": {},
   "outputs": [
    {
     "data": {
      "text/plain": [
       "Text(0.5,1,'Accuracy Curves')"
      ]
     },
     "execution_count": 22,
     "metadata": {},
     "output_type": "execute_result"
    },
    {
     "data": {
      "image/png": "[encoded data removed]",
      "text/plain": [
       "<Figure size 576x432 with 1 Axes>"
      ]
     },
     "metadata": {},
     "output_type": "display_data"
    },
    {
     "data": {
      "image/png": "[encoded data removed]",
      "text/plain": [
       "<Figure size 576x432 with 1 Axes>"
      ]
     },
     "metadata": {},
     "output_type": "display_data"
    }
   ],
   "source": [
    "# Loss Curves\n",
    "plt.figure(figsize=[8,6])\n",
    "plt.plot(history_2.history['loss'],'r',linewidth=3.0)\n",
    "plt.plot(history_2.history['val_loss'],'b',linewidth=3.0)\n",
    "plt.legend(['Training loss', 'Validation Loss'],fontsize=18)\n",
    "plt.xlabel('Epochs ',fontsize=16)\n",
    "plt.ylabel('Loss',fontsize=16)\n",
    "plt.title('Loss Curves',fontsize=16)\n",
    " \n",
    "# Accuracy Curves\n",
    "plt.figure(figsize=[8,6])\n",
    "plt.plot(history_2.history['acc'],'r',linewidth=3.0)\n",
    "plt.plot(history_2.history['val_acc'],'b',linewidth=3.0)\n",
    "plt.legend(['Training Accuracy', 'Validation Accuracy'],fontsize=18)\n",
    "plt.xlabel('Epochs ',fontsize=16)\n",
    "plt.ylabel('Accuracy',fontsize=16)\n",
    "plt.title('Accuracy Curves',fontsize=16)"
   ]
  }
 ],
 "metadata": {
  "kernelspec": {
   "display_name": "Python [conda env:anaconda3]",
   "language": "python",
   "name": "conda-env-anaconda3-py"
  },
  "language_info": {
   "codemirror_mode": {
    "name": "ipython",
    "version": 3
   },
   "file_extension": ".py",
   "mimetype": "text/x-python",
   "name": "python",
   "nbconvert_exporter": "python",
   "pygments_lexer": "ipython3",
   "version": "3.6.6"
  }
 },
 "nbformat": 4,
 "nbformat_minor": 2
}
